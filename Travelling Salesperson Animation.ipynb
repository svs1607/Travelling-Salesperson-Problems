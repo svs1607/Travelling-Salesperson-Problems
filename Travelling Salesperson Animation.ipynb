{
 "cells": [
  {
   "cell_type": "markdown",
   "id": "42f6d3ba-36ce-4268-befb-3b2545c6bfae",
   "metadata": {},
   "source": [
    "# Nearest Neighbor Algorithm for solving the TSP\n",
    "\n",
    "For this artifact, I will be using the nearest neighbor heuristic to find a way to solve the Travelling Salesperson Problem. The nearest neighbor heuristic states that from a starting point, the next city or stop visited would be the one closest to this point, and so on. First, let's download the packages needed to solve this problem."
   ]
  },
  {
   "cell_type": "code",
   "execution_count": 1,
   "id": "122c0529-0f7c-4a4a-babf-c5f98a915232",
   "metadata": {},
   "outputs": [],
   "source": [
    "import IPython\n",
    "from IPython import display\n",
    "import matplotlib.pyplot as plt\n",
    "import numpy as np\n",
    "from itertools import permutations\n",
    "import math\n",
    "import csv"
   ]
  },
  {
   "cell_type": "markdown",
   "id": "d43b396b-eae1-4534-afa7-cb3de956046f",
   "metadata": {},
   "source": [
    "Suppose we get a matrix $A$, which is a $n \\times 2 $ matrix with the $x$ coordinate of a point in the first column and the $y$ coordinate in the second column. The first step is to find the distance between each of the points in the matrix. We can create a function for this as follows"
   ]
  },
  {
   "cell_type": "code",
   "execution_count": 2,
   "id": "0482b6fd-5533-4c4b-b8a5-842b60afa0d4",
   "metadata": {},
   "outputs": [],
   "source": [
    "def dist(A):\n",
    "    n, m = A.shape\n",
    "    # create a matrix with just zeros of dimension n x n\n",
    "    Dist = np.zeros((n, n))\n",
    "    # for each entry in the A matrix, calculate the distance with every other entry and create a matrix\n",
    "    for i in range(0, n):\n",
    "        for j in range(0, n):\n",
    "            Dist[i, j] = ((A[i, 0] - A[j, 0])**2 + (A[i, 1] - A[j, 1])**2)**0.5\n",
    "    return Dist"
   ]
  },
  {
   "cell_type": "markdown",
   "id": "5cd8d7d8-4ae5-4f5d-b1eb-486d7e2426a4",
   "metadata": {},
   "source": [
    "The output of the above `dist` function is an $n \\times n$ matrix, with 0's on the diagonal. The entry $ij$ represents the distance between the $i$th and $j$th entry of the $A$ input matrix. Using the output of the `dist` function, we can create a new function, from which we can then create the optimal tours starting at each index.  "
   ]
  },
  {
   "cell_type": "code",
   "execution_count": 3,
   "id": "59035d69-573f-40a1-93d5-a3f2f4963745",
   "metadata": {},
   "outputs": [],
   "source": [
    "def create_tours(D):\n",
    "    n, m = D.shape\n",
    "    # create an empty list of the optimal tours\n",
    "    tours = [] \n",
    "    for i in range(0, n):\n",
    "        # create a tour starting at each index\n",
    "        touri = [0]*n\n",
    "        touri[0] = i\n",
    "        # take each column from the Distance matrix and sort it from smallest to largest\n",
    "        d = D[i, :]\n",
    "        d = d.tolist()\n",
    "        d.sort()\n",
    "        # add the index of the next entry of the distance column to the individual tours.\n",
    "        for j in range(0, n):\n",
    "            for k in range(0, n):\n",
    "                if d[k] != 0:\n",
    "                    if d[k] == D[i, j]:\n",
    "                        touri[k] = j\n",
    "        tours.append(touri)\n",
    "    return tours"
   ]
  },
  {
   "cell_type": "markdown",
   "id": "fea1c76d-4c58-4df4-8321-89855872e987",
   "metadata": {},
   "source": [
    "## Examples\n",
    "\n",
    "We can now test this out using a few sample matrices of different sizes. "
   ]
  },
  {
   "cell_type": "code",
   "execution_count": 4,
   "id": "ff858cb0-be3b-4c7c-bfb4-223ac5badfc2",
   "metadata": {},
   "outputs": [
    {
     "data": {
      "text/plain": [
       "[[0, 1, 2], [1, 0, 2], [2, 1, 0]]"
      ]
     },
     "execution_count": 4,
     "metadata": {},
     "output_type": "execute_result"
    }
   ],
   "source": [
    "A = np.random.rand(3, 2)\n",
    "Dist_A = dist(A)\n",
    "create_tours(Dist_A)"
   ]
  },
  {
   "cell_type": "code",
   "execution_count": 5,
   "id": "bcf81e96-3839-420d-a5a8-82e9ccc57220",
   "metadata": {},
   "outputs": [
    {
     "data": {
      "text/plain": [
       "[[0, 5, 3, 2, 1, 6, 4],\n",
       " [1, 5, 0, 6, 3, 4, 2],\n",
       " [2, 3, 0, 6, 4, 5, 1],\n",
       " [3, 0, 2, 5, 6, 4, 1],\n",
       " [4, 6, 2, 5, 3, 0, 1],\n",
       " [5, 0, 1, 3, 6, 2, 4],\n",
       " [6, 4, 2, 5, 3, 0, 1]]"
      ]
     },
     "execution_count": 5,
     "metadata": {},
     "output_type": "execute_result"
    }
   ],
   "source": [
    "B = np.random.rand(7, 2)\n",
    "Dist_B = dist(B)\n",
    "create_tours(Dist_B)"
   ]
  },
  {
   "cell_type": "markdown",
   "id": "043e288a-149f-4d14-8bbd-7307d60c3e7a",
   "metadata": {},
   "source": [
    "### Real Life Example\n",
    "\n",
    "Lastly, lets test this out using a set of real life coordinates. The data we are using is from the simple maps website which contains latitude and longitude data for Canada's cities from the most populated to the least. For this example, we will be using the top 20 most populated cities. First, lets read in the csv file and take a look at it. **Note:** To read in the file, download it and save it in a folder known as 'MATH 441' in syzgy to read it locally. "
   ]
  },
  {
   "cell_type": "code",
   "execution_count": 6,
   "id": "df8c2f7d-9211-43d2-9a0e-9bc176c2520e",
   "metadata": {},
   "outputs": [
    {
     "data": {
      "text/plain": [
       "[['Toronto', '43.7417', '-79.3733'],\n",
       " ['Montreal', '45.5089', '-73.5617'],\n",
       " ['Vancouver', '49.25', '-123.1'],\n",
       " ['Calgary', '51.05', '-114.0667'],\n",
       " ['Edmonton', '53.5344', '-113.4903'],\n",
       " ['Ottawa', '45.4247', '-75.695'],\n",
       " ['Mississauga', '43.6', '-79.65'],\n",
       " ['Winnipeg', '49.8844', '-97.1464'],\n",
       " ['Quebec City', '46.8139', '-71.2081'],\n",
       " ['Hamilton', '43.2567', '-79.8692'],\n",
       " ['Brampton', '43.6833', '-79.7667'],\n",
       " ['Surrey', '49.19', '-122.8489'],\n",
       " ['Kitchener', '43.4186', '-80.4728'],\n",
       " ['Laval', '45.5833', '-73.75'],\n",
       " ['Halifax', '44.6475', '-63.5906'],\n",
       " ['London', '42.9836', '-81.2497'],\n",
       " ['Victoria', '48.4283', '-123.3647'],\n",
       " ['Markham', '43.8767', '-79.2633'],\n",
       " ['St. Catharines', '43.1833', '-79.2333'],\n",
       " ['Niagara Falls', '43.06', '-79.1067']]"
      ]
     },
     "execution_count": 6,
     "metadata": {},
     "output_type": "execute_result"
    }
   ],
   "source": [
    "file = open('MATH 441/newdata.csv')\n",
    "csvreader = csv.reader(file)\n",
    "header = []\n",
    "header = next(csvreader)\n",
    "rows = []\n",
    "for row in csvreader:\n",
    "        rows.append(row)\n",
    "rows"
   ]
  },
  {
   "cell_type": "markdown",
   "id": "c1729e12-16b9-417b-a3ca-fcb7ab4afe99",
   "metadata": {},
   "source": [
    "Now, we can separate the cities and the numerical data in the next two steps."
   ]
  },
  {
   "cell_type": "code",
   "execution_count": 7,
   "id": "6f7a2747-3f5b-4a09-8163-37662069f219",
   "metadata": {},
   "outputs": [
    {
     "data": {
      "text/plain": [
       "array(['Toronto', 'Montreal', 'Vancouver', 'Calgary', 'Edmonton',\n",
       "       'Ottawa', 'Mississauga', 'Winnipeg', 'Quebec City', 'Hamilton',\n",
       "       'Brampton', 'Surrey', 'Kitchener', 'Laval', 'Halifax', 'London',\n",
       "       'Victoria', 'Markham', 'St. Catharines', 'Niagara Falls'],\n",
       "      dtype='<U14')"
      ]
     },
     "execution_count": 7,
     "metadata": {},
     "output_type": "execute_result"
    }
   ],
   "source": [
    "cities_data = np.array(rows)\n",
    "cities = cities_data[:, 0]\n",
    "cities"
   ]
  },
  {
   "cell_type": "markdown",
   "id": "23c51d73-2beb-4e6f-98df-257a95305a69",
   "metadata": {},
   "source": [
    "Lastly, as the data is in string form, we will convert them into floats so that we can run the function."
   ]
  },
  {
   "cell_type": "code",
   "execution_count": 8,
   "id": "3317981b-9871-48d1-bd5d-942a7f6503fa",
   "metadata": {},
   "outputs": [
    {
     "data": {
      "text/plain": [
       "array([[  43.7417,  -79.3733],\n",
       "       [  45.5089,  -73.5617],\n",
       "       [  49.25  , -123.1   ],\n",
       "       [  51.05  , -114.0667],\n",
       "       [  53.5344, -113.4903],\n",
       "       [  45.4247,  -75.695 ],\n",
       "       [  43.6   ,  -79.65  ],\n",
       "       [  49.8844,  -97.1464],\n",
       "       [  46.8139,  -71.2081],\n",
       "       [  43.2567,  -79.8692],\n",
       "       [  43.6833,  -79.7667],\n",
       "       [  49.19  , -122.8489],\n",
       "       [  43.4186,  -80.4728],\n",
       "       [  45.5833,  -73.75  ],\n",
       "       [  44.6475,  -63.5906],\n",
       "       [  42.9836,  -81.2497],\n",
       "       [  48.4283, -123.3647],\n",
       "       [  43.8767,  -79.2633],\n",
       "       [  43.1833,  -79.2333],\n",
       "       [  43.06  ,  -79.1067]])"
      ]
     },
     "execution_count": 8,
     "metadata": {},
     "output_type": "execute_result"
    }
   ],
   "source": [
    "cities_data = cities_data[:, [1, 2]]\n",
    "cities_data = cities_data.astype(float)\n",
    "cities_data"
   ]
  },
  {
   "cell_type": "code",
   "execution_count": 9,
   "id": "92d85d2b-4c05-4275-ad53-03d76044601d",
   "metadata": {},
   "outputs": [
    {
     "data": {
      "text/plain": [
       "array([[ 0.        ,  6.07434691, 44.0722777 , 35.45480577, 35.49460047,\n",
       "         4.04504387,  0.31087261, 18.8046762 ,  8.72404172,  0.69364386,\n",
       "         0.3977111 , 43.81565666,  1.14599034,  5.91717783, 15.80867145,\n",
       "         2.02375704, 44.24033785,  0.17414075,  0.57568269,  0.73197708],\n",
       "       [ 6.07434691,  0.        , 49.67936187, 40.88225549, 40.72716229,\n",
       "         2.13496101,  6.38054042, 23.98714394,  2.69118152,  6.69753396,\n",
       "         6.4679858 , 49.4244735 ,  7.22029482,  0.20246543, 10.00823886,\n",
       "         8.09212482, 49.88849271,  5.93062555,  6.1298827 ,  6.06169417],\n",
       "       [44.0722777 , 49.67936187,  0.        ,  9.21089078, 10.52152163,\n",
       "        47.55908899, 43.81580765, 25.96135236, 51.9490507 , 43.64426324,\n",
       "        43.68939274,  0.25816896, 43.02421883, 49.48603024, 59.68711498,\n",
       "        42.3168451 ,  0.86328268, 44.16478937, 44.28422087, 44.42664229],\n",
       "       [35.45480577, 40.88225549,  9.21089078,  0.        ,  2.55038827,\n",
       "        38.78184319, 35.2138004 , 16.96040021, 43.06743709, 35.07427164,\n",
       "        35.08216454,  8.97700601, 34.44979511, 40.68563761, 50.88053338,\n",
       "        33.79382041,  9.66054423, 35.534953  , 35.71065281, 35.86142356],\n",
       "       [35.49460047, 40.72716229, 10.52152163,  2.55038827,  0.        ,\n",
       "        38.65555505, 35.26837404, 16.74650911, 42.81296015, 35.15692652,\n",
       "        35.13296697, 10.3178101 , 34.532372  , 40.52790934, 50.68487991,\n",
       "        33.9230846 , 11.11647573, 35.5634461 , 35.78669194, 35.94363649],\n",
       "       [ 4.04504387,  2.13496101, 47.55908899, 38.78184319, 38.65555505,\n",
       "         0.        ,  4.35563487, 21.91007727,  4.69703611,  4.70363366,\n",
       "         4.42845513, 47.30399316,  5.18187322,  1.9514556 , 12.12932559,\n",
       "         6.06742625, 47.76423255,  3.88961038,  4.18848909,  4.15108455],\n",
       "       [ 0.31087261,  6.38054042, 43.81580765, 35.2138004 , 35.26837404,\n",
       "         4.35563487,  0.        , 18.59079601,  9.0329856 ,  0.40731257,\n",
       "         0.14337985, 43.55907553,  0.84255908,  6.22442599, 16.09352617,\n",
       "         1.714348  , 43.98053521,  0.47549951,  0.58930279,  0.76601233],\n",
       "       [18.8046762 , 23.98714394, 25.96135236, 16.96040021, 16.74650911,\n",
       "        21.91007727, 18.59079601,  0.        , 26.11940614, 18.50481146,\n",
       "        18.45284838, 25.71187853, 17.88338633, 23.78846347, 33.96199104,\n",
       "        17.32991955, 26.25870298, 18.86525178, 19.12547758, 19.28738477],\n",
       "       [ 8.72404172,  2.69118152, 51.9490507 , 43.06743709, 42.81296015,\n",
       "         4.69703611,  9.0329856 , 26.11940614,  0.        ,  9.3631365 ,\n",
       "         9.1131932 , 51.69543574,  9.86725535,  2.82411614,  7.91957039,\n",
       "        10.74732193, 52.18157923,  8.57399504,  8.80823997,  8.74526427],\n",
       "       [ 0.69364386,  6.69753396, 43.64426324, 35.07427164, 35.15692652,\n",
       "         4.70363366,  0.40731257, 18.50481146,  9.3631365 ,  0.        ,\n",
       "         0.43874117, 43.38730991,  0.62493565,  6.54657744, 16.33790509,\n",
       "         1.40725401, 43.80187173,  0.86689954,  0.64012215,  0.78746247],\n",
       "       [ 0.3977111 ,  6.4679858 , 43.68939274, 35.08216454, 35.13296697,\n",
       "         4.42845513,  0.14337985, 18.45284838,  9.1131932 ,  0.43874117,\n",
       "         0.        , 43.43270314,  0.75408441,  6.30957042, 16.20481079,\n",
       "         1.63977715, 43.85545153,  0.53927277,  0.73110571,  0.90780113],\n",
       "       [43.81565666, 49.4244735 ,  0.25816896,  8.97700601, 10.3178101 ,\n",
       "        47.30399316, 43.55907553, 25.71187853, 51.69543574, 43.38730991,\n",
       "        43.43270314,  0.        , 42.76731122, 49.231192  , 59.43214976,\n",
       "        42.05963435,  0.91991115, 43.90826442, 44.02727573, 44.16963845],\n",
       "       [ 1.14599034,  7.22029482, 43.02421883, 34.44979511, 34.532372  ,\n",
       "         5.18187322,  0.84255908, 17.88338633,  9.86725535,  0.62493565,\n",
       "         0.75408441, 42.76731122,  0.        ,  7.06271661, 16.92686835,\n",
       "         0.89039239, 43.18347114,  1.29334677,  1.26163637,  1.41238209],\n",
       "       [ 5.91717783,  0.20246543, 49.48603024, 40.68563761, 40.52790934,\n",
       "         1.9514556 ,  6.22442599, 23.78846347,  2.82411614,  6.54657744,\n",
       "         6.30957042, 49.231192  ,  7.06271661,  0.        , 10.20240805,\n",
       "         7.93750214, 49.69620188,  5.77139155,  5.98553079,  5.92125644],\n",
       "       [15.80867145, 10.00823886, 59.68711498, 50.88053338, 50.68487991,\n",
       "        12.12932559, 16.09352617, 33.96199104,  7.91957039, 16.33790509,\n",
       "        16.20481079, 59.43214976, 16.92686835, 10.20240805,  0.        ,\n",
       "        17.73731592, 59.89355123, 15.69164293, 15.71107714, 15.59709958],\n",
       "       [ 2.02375704,  8.09212482, 42.3168451 , 33.79382041, 33.9230846 ,\n",
       "         6.06742625,  1.714348  , 17.32991955, 10.74732193,  1.40725401,\n",
       "         1.63977715, 42.05963435,  0.89039239,  7.93750214, 17.73731592,\n",
       "         0.        , 42.46549167,  2.17793769,  2.0262648 ,  2.14436143],\n",
       "       [44.24033785, 49.88849271,  0.86328268,  9.66054423, 11.11647573,\n",
       "        47.76423255, 43.98053521, 26.25870298, 52.18157923, 43.80187173,\n",
       "        43.85545153,  0.91991115, 43.18347114, 49.69620188, 59.89355123,\n",
       "        42.46549167,  0.        , 44.33565771, 44.44199018, 44.58238676],\n",
       "       [ 0.17414075,  5.93062555, 44.16478937, 35.534953  , 35.5634461 ,\n",
       "         3.88961038,  0.47549951, 18.86525178,  8.57399504,  0.86689954,\n",
       "         0.53927277, 43.90826442,  1.29334677,  5.77139155, 15.69164293,\n",
       "         2.17793769, 44.33565771,  0.        ,  0.69404867,  0.83157829],\n",
       "       [ 0.57568269,  6.1298827 , 44.28422087, 35.71065281, 35.78669194,\n",
       "         4.18848909,  0.58930279, 19.12547758,  8.80823997,  0.64012215,\n",
       "         0.73110571, 44.02727573,  1.26163637,  5.98553079, 15.71107714,\n",
       "         2.0262648 , 44.44199018,  0.69404867,  0.        ,  0.17672139],\n",
       "       [ 0.73197708,  6.06169417, 44.42664229, 35.86142356, 35.94363649,\n",
       "         4.15108455,  0.76601233, 19.28738477,  8.74526427,  0.78746247,\n",
       "         0.90780113, 44.16963845,  1.41238209,  5.92125644, 15.59709958,\n",
       "         2.14436143, 44.58238676,  0.83157829,  0.17672139,  0.        ]])"
      ]
     },
     "execution_count": 9,
     "metadata": {},
     "output_type": "execute_result"
    }
   ],
   "source": [
    "dist_cities = dist(cities_data)\n",
    "dist_cities"
   ]
  },
  {
   "cell_type": "code",
   "execution_count": 10,
   "id": "5b789df7-5f8b-4104-b21a-88c59106544a",
   "metadata": {},
   "outputs": [
    {
     "data": {
      "text/plain": [
       "[[0, 17, 6, 10, 18, 9, 19, 12, 15, 5, 13, 1, 8, 14, 7, 3, 4, 11, 2, 16],\n",
       " [1, 13, 5, 8, 17, 19, 0, 18, 6, 10, 9, 12, 15, 14, 7, 4, 3, 11, 2, 16],\n",
       " [2, 11, 16, 3, 4, 7, 15, 12, 9, 10, 6, 0, 17, 18, 19, 5, 13, 1, 8, 14],\n",
       " [3, 4, 11, 2, 16, 7, 15, 12, 9, 10, 6, 0, 17, 18, 19, 5, 13, 1, 8, 14],\n",
       " [4, 3, 11, 2, 16, 7, 15, 12, 10, 9, 6, 0, 17, 18, 19, 5, 13, 1, 8, 14],\n",
       " [5, 13, 1, 17, 0, 19, 18, 6, 10, 8, 9, 12, 15, 14, 7, 4, 3, 11, 2, 16],\n",
       " [6, 10, 0, 9, 17, 18, 19, 12, 15, 5, 13, 1, 8, 14, 7, 3, 4, 11, 2, 16],\n",
       " [7, 4, 3, 15, 12, 10, 9, 6, 0, 17, 18, 19, 5, 13, 1, 11, 2, 8, 16, 14],\n",
       " [8, 1, 13, 5, 14, 17, 0, 19, 18, 6, 10, 9, 12, 15, 7, 4, 3, 11, 2, 16],\n",
       " [9, 6, 10, 12, 18, 0, 19, 17, 15, 5, 13, 1, 8, 14, 7, 3, 4, 11, 2, 16],\n",
       " [10, 6, 0, 9, 17, 18, 12, 19, 15, 5, 13, 1, 8, 14, 7, 3, 4, 11, 2, 16],\n",
       " [11, 2, 16, 3, 4, 7, 15, 12, 9, 10, 6, 0, 17, 18, 19, 5, 13, 1, 8, 14],\n",
       " [12, 9, 10, 6, 15, 0, 18, 17, 19, 5, 13, 1, 8, 14, 7, 3, 4, 11, 2, 16],\n",
       " [13, 1, 5, 8, 17, 0, 19, 18, 6, 10, 9, 12, 15, 14, 7, 4, 3, 11, 2, 16],\n",
       " [14, 8, 1, 13, 5, 19, 17, 18, 0, 6, 10, 9, 12, 15, 7, 4, 3, 11, 2, 16],\n",
       " [15, 12, 9, 10, 6, 0, 18, 19, 17, 5, 13, 1, 8, 7, 14, 3, 4, 11, 2, 16],\n",
       " [16, 2, 11, 3, 4, 7, 15, 12, 9, 10, 6, 0, 17, 18, 19, 5, 13, 1, 8, 14],\n",
       " [17, 0, 6, 10, 18, 19, 9, 12, 15, 5, 13, 1, 8, 14, 7, 3, 4, 11, 2, 16],\n",
       " [18, 19, 0, 6, 9, 17, 10, 12, 15, 5, 13, 1, 8, 14, 7, 3, 4, 11, 2, 16],\n",
       " [19, 18, 0, 6, 9, 17, 10, 12, 15, 5, 13, 1, 8, 14, 7, 3, 4, 11, 2, 16]]"
      ]
     },
     "execution_count": 10,
     "metadata": {},
     "output_type": "execute_result"
    }
   ],
   "source": [
    "tours_cities = create_tours(dist_cities)\n",
    "tours_cities"
   ]
  },
  {
   "cell_type": "markdown",
   "id": "fe66d439-6eae-4da9-9995-446af8abb30f",
   "metadata": {},
   "source": [
    "## References\n",
    "\n",
    "Canada Cities Database. simplemaps. (n.d.). Retrieved November 4, 2022, from https://simplemaps.com/data/canada-cities \n",
    "\n"
   ]
  },
  {
   "cell_type": "code",
   "execution_count": null,
   "id": "0b05e610-86a4-4c54-af54-18ec2b8075c0",
   "metadata": {},
   "outputs": [],
   "source": []
  }
 ],
 "metadata": {
  "kernelspec": {
   "display_name": "Python 3 (ipykernel)",
   "language": "python",
   "name": "python3"
  },
  "language_info": {
   "codemirror_mode": {
    "name": "ipython",
    "version": 3
   },
   "file_extension": ".py",
   "mimetype": "text/x-python",
   "name": "python",
   "nbconvert_exporter": "python",
   "pygments_lexer": "ipython3",
   "version": "3.10.6"
  }
 },
 "nbformat": 4,
 "nbformat_minor": 5
}
